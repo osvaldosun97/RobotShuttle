{
 "cells": [
  {
   "cell_type": "code",
   "execution_count": 1,
   "metadata": {},
   "outputs": [],
   "source": [
    "import numpy as np\n",
    "import pandas as pd \n",
    "import os"
   ]
  },
  {
   "cell_type": "code",
   "execution_count": 3,
   "metadata": {},
   "outputs": [],
   "source": [
    "import cv2 "
   ]
  },
  {
   "cell_type": "markdown",
   "metadata": {},
   "source": [
    "## Data preprocessing"
   ]
  },
  {
   "cell_type": "markdown",
   "metadata": {},
   "source": [
    "#### Data Loading\n",
    "In this section, three main datasets are loaded:\n",
    "- df_images: Contains the image data for object detection, including file paths for image_id, image_name, and corresponding metadata.\n",
    "- df_labels: Contains the ground truth labels for object detection, including object_class, bounding_box_coordinates, and image_id.\n",
    "- df_calibration: Includes calibration parameters such as camera matrix, distortion coefficients, and extrinsic parameters for aligning image and sensor data."
   ]
  },
  {
   "cell_type": "code",
   "execution_count": 4,
   "metadata": {},
   "outputs": [],
   "source": [
    "image_path  = \"./data_object_image_2/training/image_2/\""
   ]
  },
  {
   "cell_type": "code",
   "execution_count": 5,
   "metadata": {},
   "outputs": [],
   "source": [
    "# List all image files\n",
    "image_files = os.listdir(image_path)\n",
    "\n",
    "# Create a DataFrame to store image file paths\n",
    "df_images = pd.DataFrame({\n",
    "    'image_id': range(len(image_files)),\n",
    "    'image_name': image_files,\n",
    "    'file_path': [os.path.join(image_path, img) for img in image_files]\n",
    "})"
   ]
  },
  {
   "cell_type": "code",
   "execution_count": 6,
   "metadata": {},
   "outputs": [
    {
     "name": "stdout",
     "output_type": "stream",
     "text": [
      "   image_id  image_name                                          file_path\n",
      "0         0  000000.png  ./data_object_image_2/training/image_2/000000.png\n",
      "1         1  000001.png  ./data_object_image_2/training/image_2/000001.png\n",
      "2         2  000002.png  ./data_object_image_2/training/image_2/000002.png\n",
      "3         3  000003.png  ./data_object_image_2/training/image_2/000003.png\n",
      "4         4  000004.png  ./data_object_image_2/training/image_2/000004.png\n"
     ]
    }
   ],
   "source": [
    "# Print the first few entries of df_images\n",
    "print(df_images.head())"
   ]
  },
  {
   "cell_type": "code",
   "execution_count": 9,
   "metadata": {},
   "outputs": [
    {
     "name": "stdout",
     "output_type": "stream",
     "text": [
      "   image_id object_class bounding_box_coordinates\n",
      "0         0   Pedestrian     (712, 143, 810, 307)\n",
      "1         1        Truck     (599, 156, 629, 189)\n",
      "2         1          Car     (387, 181, 423, 203)\n",
      "3         1      Cyclist     (676, 163, 688, 193)\n",
      "4         1     DontCare     (503, 169, 590, 190)\n"
     ]
    }
   ],
   "source": [
    "# Define the path to your KITTI dataset labels\n",
    "label_path = \"./data_object_label_2/training/label_2/\"\n",
    "\n",
    "# Function to load and parse a label file\n",
    "def load_labels(label_file):\n",
    "    labels = []\n",
    "    with open(label_file, 'r') as f:\n",
    "        for line in f:\n",
    "            parts = line.strip().split()\n",
    "            obj_class = parts[0]\n",
    "            x_min = int(float(parts[4]))\n",
    "            y_min = int(float(parts[5]))\n",
    "            x_max = int(float(parts[6]))\n",
    "            y_max = int(float(parts[7]))\n",
    "            labels.append({'object_class': obj_class, 'bounding_box': (x_min, y_min, x_max, y_max)})\n",
    "    return labels\n",
    "\n",
    "# List all label files and accumulate label data\n",
    "label_files = os.listdir(label_path)\n",
    "label_data = []\n",
    "\n",
    "for i, label_file in enumerate(label_files):\n",
    "    file_path = os.path.join(label_path, label_file)\n",
    "    labels = load_labels(file_path)\n",
    "    for label in labels:\n",
    "        label_data.append({\n",
    "            'image_id': i,\n",
    "            'object_class': label['object_class'],\n",
    "            'bounding_box_coordinates': label['bounding_box']\n",
    "        })\n",
    "\n",
    "# Create a DataFrame using pd.concat\n",
    "df_labels = pd.DataFrame(label_data)\n",
    "\n",
    "# Print the first few entries of df_labels\n",
    "print(df_labels.head())"
   ]
  },
  {
   "cell_type": "code",
   "execution_count": 12,
   "metadata": {},
   "outputs": [
    {
     "name": "stdout",
     "output_type": "stream",
     "text": [
      "   image_id                                   calibration_data\n",
      "0         0  {'P0': [707.0493, 0.0, 604.0814, 0.0, 0.0, 707...\n",
      "1         1  {'P0': [721.5377, 0.0, 609.5593, 0.0, 0.0, 721...\n",
      "2         2  {'P0': [721.5377, 0.0, 609.5593, 0.0, 0.0, 721...\n",
      "3         3  {'P0': [721.5377, 0.0, 609.5593, 0.0, 0.0, 721...\n",
      "4         4  {'P0': [721.5377, 0.0, 609.5593, 0.0, 0.0, 721...\n"
     ]
    }
   ],
   "source": [
    "# Define the path to your KITTI dataset calibration files\n",
    "calibration_path = \"./data_object_calib/training/calib/\"\n",
    "\n",
    "# Function to load calibration parameters\n",
    "def load_calibration(calib_file):\n",
    "    calib_data = {}\n",
    "    with open(calib_file, 'r') as f:\n",
    "        for line in f:\n",
    "            line = line.strip()\n",
    "            \n",
    "            # Skip empty lines or comments\n",
    "            if not line:\n",
    "                continue\n",
    "\n",
    "            # Check if the line has the expected ':' delimiter\n",
    "            if ':' in line:\n",
    "                key, value = line.split(':', 1)\n",
    "                calib_data[key.strip()] = [float(x) for x in value.strip().split()]\n",
    "            else:\n",
    "                print(f\"Skipping malformed line: {line}\")\n",
    "    \n",
    "    return calib_data\n",
    "\n",
    "# List all calibration files and accumulate calibration data\n",
    "calibration_files = os.listdir(calibration_path)\n",
    "calibration_data = []\n",
    "\n",
    "for i, calib_file in enumerate(calibration_files):\n",
    "    file_path = os.path.join(calibration_path, calib_file)\n",
    "    calib_data = load_calibration(file_path)\n",
    "    calibration_data.append({\n",
    "        'image_id': i,\n",
    "        'calibration_data': calib_data\n",
    "    })\n",
    "\n",
    "# Create a DataFrame using pd.concat\n",
    "df_calibration = pd.DataFrame(calibration_data)\n",
    "\n",
    "# Print the first few entries of df_calibration\n",
    "print(df_calibration.head())"
   ]
  }
 ],
 "metadata": {
  "kernelspec": {
   "display_name": "Python 3",
   "language": "python",
   "name": "python3"
  },
  "language_info": {
   "codemirror_mode": {
    "name": "ipython",
    "version": 3
   },
   "file_extension": ".py",
   "mimetype": "text/x-python",
   "name": "python",
   "nbconvert_exporter": "python",
   "pygments_lexer": "ipython3",
   "version": "3.11.9"
  }
 },
 "nbformat": 4,
 "nbformat_minor": 2
}
