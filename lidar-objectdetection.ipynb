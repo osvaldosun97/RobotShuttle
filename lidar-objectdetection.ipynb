{
 "cells": [
  {
   "cell_type": "code",
   "execution_count": 2,
   "metadata": {},
   "outputs": [
    {
     "name": "stderr",
     "output_type": "stream",
     "text": [
      "/Users/osvaldohernandez/Library/Python/3.9/lib/python/site-packages/urllib3/__init__.py:34: NotOpenSSLWarning: urllib3 v2 only supports OpenSSL 1.1.1+, currently the 'ssl' module is compiled with 'LibreSSL 2.8.3'. See: https://github.com/urllib3/urllib3/issues/3020\n",
      "  warnings.warn(\n"
     ]
    }
   ],
   "source": [
    "import numpy as np\n",
    "import pandas as pd \n",
    "import os\n",
    "import open3d as o3d\n",
    "import matplotlib.pyplot as plt"
   ]
  },
  {
   "cell_type": "markdown",
   "metadata": {},
   "source": [
    "## Data preprocessing"
   ]
  },
  {
   "cell_type": "markdown",
   "metadata": {},
   "source": [
    "#### Data Loading\n",
    "In this section, three main datasets are loaded:\n",
    "- df_images: Contains the image data for object detection, including file paths for image_id, image_name, and corresponding metadata.\n",
    "- df_labels: Contains the ground truth labels for object detection, including object_class, bounding_box_coordinates, and image_id.\n",
    "- df_calibration: Includes calibration parameters such as camera matrix, distortion coefficients, and extrinsic parameters for aligning image and sensor data."
   ]
  },
  {
   "cell_type": "code",
   "execution_count": 3,
   "metadata": {},
   "outputs": [],
   "source": [
    "image_path  = \"./data_object_image_2/training/image_2/\""
   ]
  },
  {
   "cell_type": "code",
   "execution_count": 4,
   "metadata": {},
   "outputs": [],
   "source": [
    "# List all image files\n",
    "image_files = os.listdir(image_path)\n",
    "\n",
    "# Create a DataFrame to store image file paths\n",
    "df_images = pd.DataFrame({\n",
    "    'image_id': range(len(image_files)),\n",
    "    'image_name': image_files,\n",
    "    'file_path': [os.path.join(image_path, img) for img in image_files]\n",
    "})"
   ]
  },
  {
   "cell_type": "code",
   "execution_count": 5,
   "metadata": {},
   "outputs": [
    {
     "name": "stdout",
     "output_type": "stream",
     "text": [
      "   image_id  image_name                                          file_path\n",
      "0         0  004863.png  ./data_object_image_2/training/image_2/004863.png\n",
      "1         1  006912.png  ./data_object_image_2/training/image_2/006912.png\n",
      "2         2  006906.png  ./data_object_image_2/training/image_2/006906.png\n",
      "3         3  004877.png  ./data_object_image_2/training/image_2/004877.png\n",
      "4         4  005599.png  ./data_object_image_2/training/image_2/005599.png\n"
     ]
    }
   ],
   "source": [
    "# Print the first few entries of df_images\n",
    "print(df_images.head())"
   ]
  },
  {
   "cell_type": "code",
   "execution_count": 6,
   "metadata": {},
   "outputs": [
    {
     "name": "stdout",
     "output_type": "stream",
     "text": [
      "   image_id object_class bounding_box_coordinates\n",
      "0         0          Car     (595, 177, 637, 217)\n",
      "1         0          Car       (0, 185, 198, 277)\n",
      "2         0          Car    (812, 169, 1023, 293)\n",
      "3         0          Car     (764, 172, 947, 261)\n",
      "4         0          Car     (708, 177, 852, 243)\n"
     ]
    }
   ],
   "source": [
    "# Define the path to your KITTI dataset labels\n",
    "label_path = \"./training/label_2/\"\n",
    "\n",
    "# Function to load and parse a label file\n",
    "def load_labels(label_file):\n",
    "    labels = []\n",
    "    with open(label_file, 'r') as f:\n",
    "        for line in f:\n",
    "            parts = line.strip().split()\n",
    "            obj_class = parts[0]\n",
    "            x_min = int(float(parts[4]))\n",
    "            y_min = int(float(parts[5]))\n",
    "            x_max = int(float(parts[6]))\n",
    "            y_max = int(float(parts[7]))\n",
    "            labels.append({'object_class': obj_class, 'bounding_box': (x_min, y_min, x_max, y_max)})\n",
    "    return labels\n",
    "\n",
    "# List all label files and accumulate label data\n",
    "label_files = os.listdir(label_path)\n",
    "label_data = []\n",
    "\n",
    "for i, label_file in enumerate(label_files):\n",
    "    file_path = os.path.join(label_path, label_file)\n",
    "    labels = load_labels(file_path)\n",
    "    for label in labels:\n",
    "        label_data.append({\n",
    "            'image_id': i,\n",
    "            'object_class': label['object_class'],\n",
    "            'bounding_box_coordinates': label['bounding_box']\n",
    "        })\n",
    "\n",
    "# Create a DataFrame using pd.concat\n",
    "df_labels = pd.DataFrame(label_data)\n",
    "\n",
    "# Print the first few entries of df_labels\n",
    "print(df_labels.head())"
   ]
  },
  {
   "cell_type": "markdown",
   "metadata": {},
   "source": [
    "Check the shape of each DataFrame"
   ]
  },
  {
   "cell_type": "code",
   "execution_count": 7,
   "metadata": {},
   "outputs": [
    {
     "name": "stdout",
     "output_type": "stream",
     "text": [
      "Images DataFrame shape: (7481, 3)\n",
      "Labels DataFrame shape: (51865, 3)\n"
     ]
    }
   ],
   "source": [
    "print(\"Images DataFrame shape:\", df_images.shape)\n",
    "print(\"Labels DataFrame shape:\", df_labels.shape)"
   ]
  },
  {
   "cell_type": "markdown",
   "metadata": {},
   "source": [
    "Check for missing values in each DataFrame"
   ]
  },
  {
   "cell_type": "code",
   "execution_count": 8,
   "metadata": {},
   "outputs": [
    {
     "name": "stdout",
     "output_type": "stream",
     "text": [
      "Missing values in Images DataFrame:\n",
      " image_id      0\n",
      "image_name    0\n",
      "file_path     0\n",
      "dtype: int64\n",
      "Missing values in Labels DataFrame:\n",
      " image_id                    0\n",
      "object_class                0\n",
      "bounding_box_coordinates    0\n",
      "dtype: int64\n"
     ]
    }
   ],
   "source": [
    "print(\"Missing values in Images DataFrame:\\n\", df_images.isna().sum())\n",
    "print(\"Missing values in Labels DataFrame:\\n\", df_labels.isna().sum())"
   ]
  },
  {
   "cell_type": "markdown",
   "metadata": {},
   "source": [
    "Get a summary of the data types and basic info"
   ]
  },
  {
   "cell_type": "code",
   "execution_count": 9,
   "metadata": {},
   "outputs": [
    {
     "name": "stdout",
     "output_type": "stream",
     "text": [
      "Images DataFrame info:\n",
      "\n",
      "<class 'pandas.core.frame.DataFrame'>\n",
      "RangeIndex: 7481 entries, 0 to 7480\n",
      "Data columns (total 3 columns):\n",
      " #   Column      Non-Null Count  Dtype \n",
      "---  ------      --------------  ----- \n",
      " 0   image_id    7481 non-null   int64 \n",
      " 1   image_name  7481 non-null   object\n",
      " 2   file_path   7481 non-null   object\n",
      "dtypes: int64(1), object(2)\n",
      "memory usage: 175.5+ KB\n",
      "Labels DataFrame info:\n",
      "\n",
      "<class 'pandas.core.frame.DataFrame'>\n",
      "RangeIndex: 51865 entries, 0 to 51864\n",
      "Data columns (total 3 columns):\n",
      " #   Column                    Non-Null Count  Dtype \n",
      "---  ------                    --------------  ----- \n",
      " 0   image_id                  51865 non-null  int64 \n",
      " 1   object_class              51865 non-null  object\n",
      " 2   bounding_box_coordinates  51865 non-null  object\n",
      "dtypes: int64(1), object(2)\n",
      "memory usage: 1.2+ MB\n"
     ]
    }
   ],
   "source": [
    "print(\"Images DataFrame info:\\n\")\n",
    "df_images.info()\n",
    "\n",
    "print(\"Labels DataFrame info:\\n\")\n",
    "df_labels.info()"
   ]
  },
  {
   "cell_type": "code",
   "execution_count": 10,
   "metadata": {},
   "outputs": [],
   "source": [
    "# Function to read point cloud data from a KITTI .bin file\n",
    "def read_point_cloud_from_bin(bin_file):\n",
    "    point_cloud = np.fromfile(bin_file, dtype=np.float32).reshape(-1, 4)\n",
    "    return point_cloud"
   ]
  },
  {
   "cell_type": "code",
   "execution_count": 16,
   "metadata": {},
   "outputs": [
    {
     "name": "stdout",
     "output_type": "stream",
     "text": [
      "\u001b[1;33m[Open3D WARNING] GLFW Error: Cocoa: Failed to find service port for display\u001b[0;m\n"
     ]
    },
    {
     "ename": "KeyboardInterrupt",
     "evalue": "",
     "output_type": "error",
     "traceback": [
      "\u001b[0;31m---------------------------------------------------------------------------\u001b[0m",
      "\u001b[0;31mKeyboardInterrupt\u001b[0m                         Traceback (most recent call last)",
      "Cell \u001b[0;32mIn[16], line 15\u001b[0m\n\u001b[1;32m     12\u001b[0m vis\u001b[38;5;241m.\u001b[39madd_geometry(pcd)\n\u001b[1;32m     14\u001b[0m \u001b[38;5;66;03m# Non-blocking visualization with a way to exit\u001b[39;00m\n\u001b[0;32m---> 15\u001b[0m \u001b[38;5;28;01mwhile\u001b[39;00m \u001b[43mvis\u001b[49m\u001b[38;5;241;43m.\u001b[39;49m\u001b[43mpoll_events\u001b[49m\u001b[43m(\u001b[49m\u001b[43m)\u001b[49m:\n\u001b[1;32m     16\u001b[0m     vis\u001b[38;5;241m.\u001b[39mupdate_geometry(pcd)\n\u001b[1;32m     17\u001b[0m     vis\u001b[38;5;241m.\u001b[39mupdate_renderer()\n",
      "\u001b[0;31mKeyboardInterrupt\u001b[0m: "
     ]
    },
    {
     "ename": "",
     "evalue": "",
     "output_type": "error",
     "traceback": [
      "\u001b[1;31mThe Kernel crashed while executing code in the current cell or a previous cell. \n",
      "\u001b[1;31mPlease review the code in the cell(s) to identify a possible cause of the failure. \n",
      "\u001b[1;31mClick <a href='https://aka.ms/vscodeJupyterKernelCrash'>here</a> for more info. \n",
      "\u001b[1;31mView Jupyter <a href='command:jupyter.viewOutput'>log</a> for further details."
     ]
    }
   ],
   "source": [
    "# Load a point cloud file (adjust the path to your .bin file)\n",
    "bin_file = \"./data_object_velodyne/training/velodyne/000001.bin\"\n",
    "point_cloud = read_point_cloud_from_bin(bin_file)\n",
    "\n",
    "# Create an Open3D PointCloud object\n",
    "pcd = o3d.geometry.PointCloud()\n",
    "pcd.points = o3d.utility.Vector3dVector(point_cloud[:, :3])  # Use only x, y, z (ignore intensity)\n",
    "\n",
    "# Create a visualizer window\n",
    "vis = o3d.visualization.Visualizer()\n",
    "vis.create_window()\n",
    "vis.add_geometry(pcd)\n",
    "\n",
    "# Non-blocking visualization with a way to exit\n",
    "while vis.poll_events():\n",
    "    vis.update_geometry(pcd)\n",
    "    vis.update_renderer()\n",
    "\n",
    "# Destroy the window after exiting the loop\n",
    "vis.destroy_window()"
   ]
  },
  {
   "cell_type": "code",
   "execution_count": 12,
   "metadata": {},
   "outputs": [],
   "source": [
    "image_path  = \"./data_object_image_2/training/image_2/\""
   ]
  },
  {
   "cell_type": "code",
   "execution_count": 13,
   "metadata": {},
   "outputs": [],
   "source": [
    "# List all image files\n",
    "image_files = os.listdir(image_path)\n",
    "\n",
    "# Create a DataFrame to store image file paths\n",
    "df_images = pd.DataFrame({\n",
    "    'image_id': range(len(image_files)),\n",
    "    'image_name': image_files,\n",
    "    'file_path': [os.path.join(image_path, img) for img in image_files]\n",
    "})"
   ]
  },
  {
   "cell_type": "code",
   "execution_count": 14,
   "metadata": {},
   "outputs": [
    {
     "name": "stdout",
     "output_type": "stream",
     "text": [
      "   image_id  image_name                                          file_path\n",
      "0         0  004863.png  ./data_object_image_2/training/image_2/004863.png\n",
      "1         1  006912.png  ./data_object_image_2/training/image_2/006912.png\n",
      "2         2  006906.png  ./data_object_image_2/training/image_2/006906.png\n",
      "3         3  004877.png  ./data_object_image_2/training/image_2/004877.png\n",
      "4         4  005599.png  ./data_object_image_2/training/image_2/005599.png\n"
     ]
    }
   ],
   "source": [
    "# Print the first few entries of df_images\n",
    "print(df_images.head())"
   ]
  },
  {
   "cell_type": "code",
   "execution_count": 15,
   "metadata": {},
   "outputs": [
    {
     "ename": "FileNotFoundError",
     "evalue": "[Errno 2] No such file or directory: './data_object_label_2/training/label_2/'",
     "output_type": "error",
     "traceback": [
      "\u001b[0;31m---------------------------------------------------------------------------\u001b[0m",
      "\u001b[0;31mFileNotFoundError\u001b[0m                         Traceback (most recent call last)",
      "Cell \u001b[0;32mIn[15], line 19\u001b[0m\n\u001b[1;32m     16\u001b[0m     \u001b[38;5;28;01mreturn\u001b[39;00m labels\n\u001b[1;32m     18\u001b[0m \u001b[38;5;66;03m# List all label files and accumulate label data\u001b[39;00m\n\u001b[0;32m---> 19\u001b[0m label_files \u001b[38;5;241m=\u001b[39m \u001b[43mos\u001b[49m\u001b[38;5;241;43m.\u001b[39;49m\u001b[43mlistdir\u001b[49m\u001b[43m(\u001b[49m\u001b[43mlabel_path\u001b[49m\u001b[43m)\u001b[49m\n\u001b[1;32m     20\u001b[0m label_data \u001b[38;5;241m=\u001b[39m []\n\u001b[1;32m     22\u001b[0m \u001b[38;5;28;01mfor\u001b[39;00m i, label_file \u001b[38;5;129;01min\u001b[39;00m \u001b[38;5;28menumerate\u001b[39m(label_files):\n",
      "\u001b[0;31mFileNotFoundError\u001b[0m: [Errno 2] No such file or directory: './data_object_label_2/training/label_2/'"
     ]
    }
   ],
   "source": [
    "# Define the path to your KITTI dataset labels\n",
    "label_path = \"./data_object_label_2/training/label_2/\"\n",
    "\n",
    "# Function to load and parse a label file\n",
    "def load_labels(label_file):\n",
    "    labels = []\n",
    "    with open(label_file, 'r') as f:\n",
    "        for line in f:\n",
    "            parts = line.strip().split()\n",
    "            obj_class = parts[0]\n",
    "            x_min = int(float(parts[4]))\n",
    "            y_min = int(float(parts[5]))\n",
    "            x_max = int(float(parts[6]))\n",
    "            y_max = int(float(parts[7]))\n",
    "            labels.append({'object_class': obj_class, 'bounding_box': (x_min, y_min, x_max, y_max)})\n",
    "    return labels\n",
    "\n",
    "# List all label files and accumulate label data\n",
    "label_files = os.listdir(label_path)\n",
    "label_data = []\n",
    "\n",
    "for i, label_file in enumerate(label_files):\n",
    "    file_path = os.path.join(label_path, label_file)\n",
    "    labels = load_labels(file_path)\n",
    "    for label in labels:\n",
    "        label_data.append({\n",
    "            'image_id': i,\n",
    "            'object_class': label['object_class'],\n",
    "            'bounding_box_coordinates': label['bounding_box']\n",
    "        })\n",
    "\n",
    "# Create a DataFrame using pd.concat\n",
    "df_labels = pd.DataFrame(label_data)\n",
    "\n",
    "# Print the first few entries of df_labels\n",
    "print(df_labels.head())"
   ]
  },
  {
   "cell_type": "code",
   "execution_count": null,
   "metadata": {},
   "outputs": [
    {
     "name": "stdout",
     "output_type": "stream",
     "text": [
      "   image_id                                   calibration_data\n",
      "0         0  {'P0': [707.0493, 0.0, 604.0814, 0.0, 0.0, 707...\n",
      "1         1  {'P0': [721.5377, 0.0, 609.5593, 0.0, 0.0, 721...\n",
      "2         2  {'P0': [721.5377, 0.0, 609.5593, 0.0, 0.0, 721...\n",
      "3         3  {'P0': [721.5377, 0.0, 609.5593, 0.0, 0.0, 721...\n",
      "4         4  {'P0': [721.5377, 0.0, 609.5593, 0.0, 0.0, 721...\n"
     ]
    }
   ],
   "source": [
    "# Define the path to your KITTI dataset calibration files\n",
    "calibration_path = \"./data_object_calib/training/calib/\"\n",
    "\n",
    "# Function to load calibration parameters\n",
    "def load_calibration(calib_file):\n",
    "    calib_data = {}\n",
    "    with open(calib_file, 'r') as f:\n",
    "        for line in f:\n",
    "            line = line.strip()\n",
    "            \n",
    "            # Skip empty lines or comments\n",
    "            if not line:\n",
    "                continue\n",
    "\n",
    "            # Check if the line has the expected ':' delimiter\n",
    "            if ':' in line:\n",
    "                key, value = line.split(':', 1)\n",
    "                calib_data[key.strip()] = [float(x) for x in value.strip().split()]\n",
    "            else:\n",
    "                print(f\"Skipping malformed line: {line}\")\n",
    "    \n",
    "    return calib_data\n",
    "\n",
    "# List all calibration files and accumulate calibration data\n",
    "calibration_files = os.listdir(calibration_path)\n",
    "calibration_data = []\n",
    "\n",
    "for i, calib_file in enumerate(calibration_files):\n",
    "    file_path = os.path.join(calibration_path, calib_file)\n",
    "    calib_data = load_calibration(file_path)\n",
    "    calibration_data.append({\n",
    "        'image_id': i,\n",
    "        'calibration_data': calib_data\n",
    "    })\n",
    "\n",
    "# Create a DataFrame using pd.concat\n",
    "df_calibration = pd.DataFrame(calibration_data)\n",
    "\n",
    "# Print the first few entries of df_calibration\n",
    "print(df_calibration.head())"
   ]
  },
  {
   "cell_type": "markdown",
   "metadata": {},
   "source": [
    "Check the shape of each DataFrame"
   ]
  },
  {
   "cell_type": "code",
   "execution_count": null,
   "metadata": {},
   "outputs": [
    {
     "name": "stdout",
     "output_type": "stream",
     "text": [
      "Images DataFrame shape: (7481, 3)\n",
      "Labels DataFrame shape: (51865, 3)\n",
      "Calibration DataFrame shape: (7481, 2)\n"
     ]
    }
   ],
   "source": [
    "print(\"Images DataFrame shape:\", df_images.shape)\n",
    "print(\"Labels DataFrame shape:\", df_labels.shape)\n",
    "print(\"Calibration DataFrame shape:\", df_calibration.shape)"
   ]
  },
  {
   "cell_type": "markdown",
   "metadata": {},
   "source": [
    "Check for missing values in each DataFrame"
   ]
  },
  {
   "cell_type": "code",
   "execution_count": null,
   "metadata": {},
   "outputs": [
    {
     "name": "stdout",
     "output_type": "stream",
     "text": [
      "Missing values in Images DataFrame:\n",
      " image_id      0\n",
      "image_name    0\n",
      "file_path     0\n",
      "dtype: int64\n",
      "Missing values in Labels DataFrame:\n",
      " image_id                    0\n",
      "object_class                0\n",
      "bounding_box_coordinates    0\n",
      "dtype: int64\n",
      "Missing values in Calibration DataFrame:\n",
      " image_id            0\n",
      "calibration_data    0\n",
      "dtype: int64\n"
     ]
    }
   ],
   "source": [
    "print(\"Missing values in Images DataFrame:\\n\", df_images.isna().sum())\n",
    "print(\"Missing values in Labels DataFrame:\\n\", df_labels.isna().sum())\n",
    "print(\"Missing values in Calibration DataFrame:\\n\", df_calibration.isna().sum())"
   ]
  },
  {
   "cell_type": "markdown",
   "metadata": {},
   "source": [
    "Get a summary of the data types and basic info"
   ]
  },
  {
   "cell_type": "code",
   "execution_count": null,
   "metadata": {},
   "outputs": [
    {
     "name": "stdout",
     "output_type": "stream",
     "text": [
      "Images DataFrame info:\n",
      "\n",
      "<class 'pandas.core.frame.DataFrame'>\n",
      "RangeIndex: 7481 entries, 0 to 7480\n",
      "Data columns (total 3 columns):\n",
      " #   Column      Non-Null Count  Dtype \n",
      "---  ------      --------------  ----- \n",
      " 0   image_id    7481 non-null   int64 \n",
      " 1   image_name  7481 non-null   object\n",
      " 2   file_path   7481 non-null   object\n",
      "dtypes: int64(1), object(2)\n",
      "memory usage: 175.5+ KB\n",
      "Labels DataFrame info:\n",
      "\n",
      "<class 'pandas.core.frame.DataFrame'>\n",
      "RangeIndex: 51865 entries, 0 to 51864\n",
      "Data columns (total 3 columns):\n",
      " #   Column                    Non-Null Count  Dtype \n",
      "---  ------                    --------------  ----- \n",
      " 0   image_id                  51865 non-null  int64 \n",
      " 1   object_class              51865 non-null  object\n",
      " 2   bounding_box_coordinates  51865 non-null  object\n",
      "dtypes: int64(1), object(2)\n",
      "memory usage: 1.2+ MB\n",
      "Calibration DataFrame info:\n",
      "\n",
      "<class 'pandas.core.frame.DataFrame'>\n",
      "RangeIndex: 7481 entries, 0 to 7480\n",
      "Data columns (total 2 columns):\n",
      " #   Column            Non-Null Count  Dtype \n",
      "---  ------            --------------  ----- \n",
      " 0   image_id          7481 non-null   int64 \n",
      " 1   calibration_data  7481 non-null   object\n",
      "dtypes: int64(1), object(1)\n",
      "memory usage: 117.0+ KB\n"
     ]
    }
   ],
   "source": [
    "print(\"Images DataFrame info:\\n\")\n",
    "df_images.info()\n",
    "\n",
    "print(\"Labels DataFrame info:\\n\")\n",
    "df_labels.info()\n",
    "\n",
    "print(\"Calibration DataFrame info:\\n\")\n",
    "df_calibration.info()"
   ]
  },
  {
   "cell_type": "code",
   "execution_count": null,
   "metadata": {},
   "outputs": [],
   "source": []
  }
 ],
 "metadata": {
  "kernelspec": {
   "display_name": "Python 3",
   "language": "python",
   "name": "python3"
  },
  "language_info": {
   "codemirror_mode": {
    "name": "ipython",
    "version": 3
   },
   "file_extension": ".py",
   "mimetype": "text/x-python",
   "name": "python",
   "nbconvert_exporter": "python",
   "pygments_lexer": "ipython3",
   "version": "3.9.6"
  }
 },
 "nbformat": 4,
 "nbformat_minor": 2
}
